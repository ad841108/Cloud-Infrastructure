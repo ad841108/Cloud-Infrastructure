{
 "cells": [
  {
   "cell_type": "code",
   "execution_count": 4,
   "id": "70f4443c",
   "metadata": {},
   "outputs": [],
   "source": [
    "import sys\n",
    "import glob\n",
    "from pyspark import SparkContext, SparkConf\n"
   ]
  },
  {
   "cell_type": "code",
   "execution_count": 2,
   "id": "cf8f5038",
   "metadata": {},
   "outputs": [
    {
     "name": "stderr",
     "output_type": "stream",
     "text": [
      "21/11/27 08:00:48 WARN NativeCodeLoader: Unable to load native-hadoop library for your platform... using builtin-java classes where applicable\n",
      "Using Spark's default log4j profile: org/apache/spark/log4j-defaults.properties\n",
      "Setting default log level to \"WARN\".\n",
      "To adjust logging level use sc.setLogLevel(newLevel). For SparkR, use setLogLevel(newLevel).\n"
     ]
    }
   ],
   "source": [
    "\n",
    "conf = SparkConf()\n",
    "sc = SparkContext.getOrCreate(conf = conf)\n",
    "stop_words = {\"they\", \"he\", \"she\", \"it\", \"the\", \"as\", \"is\", \"and\"}\n",
    "lines_rdd = sc.wholeTextFiles(\"data/*\")\n",
    "words_rdd = lines_rdd.flatMap(lambda x: [(x[0], word) for word in x[1].split()])\n",
    "words_rdd = words_rdd.filter(lambda word:word[1] not in stop_words)\n",
    "key_value_rdd = words_rdd.map(lambda x: ((x[0],x[1]), 1))\n",
    "word_counts_rdd = key_value_rdd.reduceByKey(lambda x,y: x + y)\n",
    "flipped_rdd = word_counts_rdd.map(lambda x: (x[0][1], [(x[0][0], x[1])]))"
   ]
  },
  {
   "cell_type": "code",
   "execution_count": 3,
   "id": "37d31978",
   "metadata": {},
   "outputs": [
    {
     "name": "stderr",
     "output_type": "stream",
     "text": [
      "                                                                                \r"
     ]
    }
   ],
   "source": [
    "res_rdd = flipped_rdd.reduceByKey(lambda x, y: x + y)\n",
    "res_rdd.coalesce(1).saveAsTextFile(\"output\")"
   ]
  },
  {
   "cell_type": "code",
   "execution_count": null,
   "id": "9de0c9dc",
   "metadata": {},
   "outputs": [],
   "source": []
  },
  {
   "cell_type": "code",
   "execution_count": null,
   "id": "26917786",
   "metadata": {},
   "outputs": [],
   "source": []
  },
  {
   "cell_type": "code",
   "execution_count": null,
   "id": "a3e632b4",
   "metadata": {},
   "outputs": [],
   "source": []
  },
  {
   "cell_type": "code",
   "execution_count": null,
   "id": "aab88d49",
   "metadata": {},
   "outputs": [],
   "source": []
  }
 ],
 "metadata": {
  "kernelspec": {
   "display_name": "Python 3 (ipykernel)",
   "language": "python",
   "name": "python3"
  },
  "language_info": {
   "codemirror_mode": {
    "name": "ipython",
    "version": 3
   },
   "file_extension": ".py",
   "mimetype": "text/x-python",
   "name": "python",
   "nbconvert_exporter": "python",
   "pygments_lexer": "ipython3",
   "version": "3.9.7"
  }
 },
 "nbformat": 4,
 "nbformat_minor": 5
}
